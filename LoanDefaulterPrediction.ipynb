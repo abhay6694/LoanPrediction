{
 "cells": [
  {
   "cell_type": "code",
<<<<<<< HEAD
   "execution_count": 12,
=======
   "execution_count": 199,
>>>>>>> 1c329b1216b3e571861c375cd4110340e69c8acb
   "metadata": {},
   "outputs": [],
   "source": [
    "import numpy as np\n",
    "import pandas as pd\n",
    "import matplotlib.pyplot as plt\n",
    "import sklearn\n",
    "\n",
    "from sklearn.impute import SimpleImputer\n",
    "from sklearn.preprocessing import StandardScaler\n",
    "from sklearn.decomposition import PCA\n",
    "import seaborn as sns\n",
    "from sklearn.model_selection import train_test_split\n",
    "\n",
    "from sklearn.model_selection import GridSearchCV\n",
    "from sklearn.model_selection import RandomizedSearchCV"
   ]
  },
  {
   "cell_type": "code",
<<<<<<< HEAD
   "execution_count": 14,
   "metadata": {},
   "outputs": [],
   "source": [
    "from pyspark.sql import Row\n",
    "from pyspark.sql import SQLContext\n",
    "\n",
    "sqlContext = SQLContext(sc)"
   ]
  },
  {
   "cell_type": "code",
   "execution_count": 15,
   "metadata": {},
   "outputs": [],
   "source": [
    "df = sqlContext.read.csv('/home/abhay/Downloads/MyProjects/loan-default-prediction/train_v2.csv', header=True, inferSchema= True)"
   ]
  },
  {
   "cell_type": "code",
   "execution_count": null,
   "metadata": {},
   "outputs": [],
   "source": []
  },
  {
   "cell_type": "code",
   "execution_count": null,
   "metadata": {},
   "outputs": [],
   "source": []
  },
  {
   "cell_type": "code",
   "execution_count": null,
   "metadata": {},
   "outputs": [],
   "source": []
  },
  {
   "cell_type": "code",
   "execution_count": null,
   "metadata": {},
   "outputs": [],
   "source": []
  },
  {
   "cell_type": "code",
   "execution_count": null,
   "metadata": {},
   "outputs": [],
   "source": []
  },
  {
   "cell_type": "code",
   "execution_count": null,
   "metadata": {},
   "outputs": [],
   "source": []
  },
  {
   "cell_type": "code",
   "execution_count": null,
   "metadata": {},
   "outputs": [],
   "source": []
  },
  {
   "cell_type": "code",
   "execution_count": null,
   "metadata": {},
   "outputs": [],
=======
   "execution_count": 200,
   "metadata": {},
   "outputs": [
    {
     "name": "stderr",
     "output_type": "stream",
     "text": [
      "/home/abhay/anaconda3/lib/python3.7/site-packages/IPython/core/interactiveshell.py:3049: DtypeWarning: Columns (135,204,274,417) have mixed types. Specify dtype option on import or set low_memory=False.\n",
      "  interactivity=interactivity, compiler=compiler, result=result)\n"
     ]
    }
   ],
>>>>>>> 1c329b1216b3e571861c375cd4110340e69c8acb
   "source": [
    "df = pd.read_csv('/home/abhay/Downloads/MyProjects/loan-default-prediction/train_v2.csv')"
   ]
  },
  {
   "cell_type": "code",
<<<<<<< HEAD
   "execution_count": null,
=======
   "execution_count": 201,
>>>>>>> 1c329b1216b3e571861c375cd4110340e69c8acb
   "metadata": {},
   "outputs": [],
   "source": [
    "# Droped all the object type columns because they were conntaining some very large data values\n",
    "# which must be outlier or unintended data columns for our modelling.\n",
    "\n",
    "obj_cols = df.columns[df.dtypes == 'object']\n",
    "df = df.drop(list(obj_cols),axis=1)\n",
    "\n",
    "# Drop columns which contains sinngle value so, they don't have any value\n",
    "for i in df.columns:\n",
    "    if len(set(df[i]))==1:\n",
    "        df.drop(labels=[i], axis=1, inplace=True)"
   ]
  },
  {
   "cell_type": "code",
<<<<<<< HEAD
   "execution_count": null,
=======
   "execution_count": 203,
>>>>>>> 1c329b1216b3e571861c375cd4110340e69c8acb
   "metadata": {},
   "outputs": [],
   "source": [
    "df.loc[df['loss']!=0,'loss']=1\n",
    "y = df['loss']\n",
    "ids = df['id']\n",
    "predictors = df.drop(['loss','id'],axis=1)\n",
    "cols = list(predictors.columns.values)"
   ]
  },
  {
   "cell_type": "code",
<<<<<<< HEAD
   "execution_count": null,
   "metadata": {},
   "outputs": [],
=======
   "execution_count": 204,
   "metadata": {},
   "outputs": [
    {
     "data": {
      "text/plain": [
       "(105471, 146)"
      ]
     },
     "execution_count": 204,
     "metadata": {},
     "output_type": "execute_result"
    }
   ],
>>>>>>> 1c329b1216b3e571861c375cd4110340e69c8acb
   "source": [
    "# Calculate the correlation matrix\n",
    "corr_matrix = predictors.corr()\n",
    "iters = range(len(corr_matrix.columns) - 1)\n",
    "drop_cols = []\n",
    "\n",
    "# Iterate through the correlation matrix and compare correlations\n",
    "for i in iters:\n",
    "    for j in range(i):\n",
    "        item = corr_matrix.iloc[j:(j+1), (i+1):(i+2)]\n",
    "        col = item.columns\n",
    "        row = item.index\n",
    "        val = abs(item.values)\n",
    "\n",
    "        # If correlation exceeds the threshold\n",
    "        if val >= 0.6:\n",
    "            # Print the correlated features and the correlation value\n",
    "            #print(col.values[0], \"|\", row.values[0], \"|\", round(val[0][0], 2))\n",
    "            drop_cols.append(col.values[0])\n",
    "\n",
    "# Drop one of each pair of correlated columns\n",
    "drops = set(drop_cols)\n",
    "predictors = predictors.drop(columns = drops)\n",
    "predictors.shape"
   ]
  },
  {
   "cell_type": "code",
<<<<<<< HEAD
   "execution_count": null,
=======
   "execution_count": 206,
>>>>>>> 1c329b1216b3e571861c375cd4110340e69c8acb
   "metadata": {},
   "outputs": [],
   "source": [
    "features = list(predictors.columns.values)"
   ]
  },
  {
   "cell_type": "code",
<<<<<<< HEAD
   "execution_count": null,
   "metadata": {},
   "outputs": [],
=======
   "execution_count": 209,
   "metadata": {},
   "outputs": [
    {
     "name": "stderr",
     "output_type": "stream",
     "text": [
      "/home/abhay/anaconda3/lib/python3.7/site-packages/numpy/lib/function_base.py:2531: RuntimeWarning: divide by zero encountered in true_divide\n",
      "  c /= stddev[None, :]\n"
     ]
    }
   ],
>>>>>>> 1c329b1216b3e571861c375cd4110340e69c8acb
   "source": [
    "## Handling Missing Data using various techniques \n",
    "\n",
    "#1. Dropping the missing values\n",
    "#df = df.dropna(axis=0)\n",
    "\n",
    "#2. Imputing the meand/median values\n",
    "# imputer = SimpleImputer(missing_values=np.nan, strategy='mean')\n",
    "# #imp = Imputer(missing_values=0, strategy='mean')\n",
    "# cleaned_predictors = pd.DataFrame(imputer.fit_transform(predictors),columns = cols)\n",
    "\n",
    "#3.Imputing using knn \n",
    "\n",
    "# from sklearn.impute import KNNImputer\n",
    "# # start the KNN training\n",
    "# imputer = KNNImputer(missing_values=np.nan,n_neighbors = 5)\n",
    "# f = imputer.fit(x_train)\n",
    "# g = f.transform(x_test)\n",
    "\n",
    "#4. \n",
    "from sklearn.experimental import enable_iterative_imputer  # noqa\n",
    "# now you can import normally from sklearn.impute\n",
    "from sklearn.impute import IterativeImputer\n",
    "imputer = IterativeImputer(random_state=0,missing_values=np.nan, n_nearest_features=5)\n",
    "cleaned_predictors = pd.DataFrame(imputer.fit_transform(predictors),columns = features)\n",
    "\n",
    "#x.isnull().sum(axis=0)"
   ]
  },
  {
   "cell_type": "code",
<<<<<<< HEAD
   "execution_count": null,
=======
   "execution_count": 210,
>>>>>>> 1c329b1216b3e571861c375cd4110340e69c8acb
   "metadata": {},
   "outputs": [],
   "source": [
    "cleaned_predictors.to_csv('/home/abhay/features.csv')"
   ]
  },
  {
   "cell_type": "code",
<<<<<<< HEAD
   "execution_count": null,
=======
   "execution_count": 218,
>>>>>>> 1c329b1216b3e571861c375cd4110340e69c8acb
   "metadata": {},
   "outputs": [],
   "source": [
    "x_train,x_test,y_train,y_test = train_test_split(cleaned_predictors,y,test_size=0.2,random_state=42)"
   ]
  },
  {
   "cell_type": "code",
<<<<<<< HEAD
   "execution_count": null,
=======
   "execution_count": 219,
>>>>>>> 1c329b1216b3e571861c375cd4110340e69c8acb
   "metadata": {},
   "outputs": [],
   "source": [
    "from sklearn.preprocessing import StandardScaler\n",
    "sc = StandardScaler(copy=False)\n",
    "x_train = sc.fit_transform(x_train)\n",
    "x_test = sc.transform(x_test)"
   ]
  },
  {
   "cell_type": "code",
<<<<<<< HEAD
   "execution_count": null,
=======
   "execution_count": 221,
>>>>>>> 1c329b1216b3e571861c375cd4110340e69c8acb
   "metadata": {},
   "outputs": [],
   "source": [
    "pca = PCA(n_components = x_train.shape[1])\n",
    "#transformed_predictors = pca.fit_transform(cleaned_predictors)\n",
    "x_train = pca.fit_transform(x_train)\n",
    "x_test = pca.transform(x_test)"
   ]
  },
  {
   "cell_type": "code",
<<<<<<< HEAD
   "execution_count": null,
   "metadata": {},
   "outputs": [],
=======
   "execution_count": 222,
   "metadata": {},
   "outputs": [
    {
     "name": "stdout",
     "output_type": "stream",
     "text": [
      "0.9999999999999996\n"
     ]
    }
   ],
>>>>>>> 1c329b1216b3e571861c375cd4110340e69c8acb
   "source": [
    "arr = pca.explained_variance_ratio_\n",
    "s = 0\n",
    "for i in arr:\n",
    "    s+=i\n",
    "print(s)"
   ]
  },
  {
   "cell_type": "code",
<<<<<<< HEAD
   "execution_count": null,
   "metadata": {},
   "outputs": [],
=======
   "execution_count": 48,
   "metadata": {},
   "outputs": [
    {
     "name": "stdout",
     "output_type": "stream",
     "text": [
      "Classification score for Nearest Neighbors Algo is :- 0.8866397240954288\n",
      "Classification score for Decision Tree Algo is :- 0.9068229493819405\n",
      "Classification score for Random Forest Algo is :- 0.9068822072365692\n",
      "Classification score for Neural Net Algo is :- 0.9069414650911979\n",
      "Classification score for AdaBoost Algo is :- 0.9064911053960203\n",
      "Classification score for Naive Bayes Algo is :- 0.8495561586688316\n",
      "Classification score for QDA Algo is :- 0.3376986619576425\n"
     ]
    }
   ],
>>>>>>> 1c329b1216b3e571861c375cd4110340e69c8acb
   "source": [
    "\n",
    "from sklearn.neural_network import MLPClassifier\n",
    "from sklearn.linear_model import LogisticRegression\n",
    "from sklearn.neighbors import KNeighborsClassifier\n",
    "from sklearn.svm import SVC\n",
    "from sklearn.gaussian_process import GaussianProcessClassifier\n",
    "from sklearn.gaussian_process.kernels import RBF\n",
    "from sklearn.tree import DecisionTreeClassifier\n",
    "from sklearn.ensemble import RandomForestClassifier, AdaBoostClassifier\n",
    "from sklearn.naive_bayes import GaussianNB\n",
    "from sklearn.discriminant_analysis import QuadraticDiscriminantAnalysis\n",
    "\n",
    "names = [\n",
    "         \"Nearest Neighbors\",\n",
    "         \"Decision Tree\",\n",
    "         \"Random Forest\", \n",
    "         \"Neural Net\", \n",
    "         \"AdaBoost\",\n",
    "         \"Naive Bayes\", \n",
    "         \"QDA\"\n",
    "        ]\n",
    "\n",
    "classifiers = [\n",
    "    KNeighborsClassifier(3),\n",
    "    DecisionTreeClassifier(max_depth=5,min_samples_leaf=100),\n",
    "    RandomForestClassifier(max_depth=5, n_estimators=10),\n",
    "    MLPClassifier(alpha=1, max_iter=1000),\n",
    "    AdaBoostClassifier(),\n",
    "    GaussianNB(),\n",
    "    QuadraticDiscriminantAnalysis()\n",
    "   ]\n",
    "\n",
    "# iterate over classifiers\n",
    "for name, clf in zip(names, classifiers):\n",
    "    clf.fit(x_train, y_train)\n",
    "    score = clf.score(x_test, y_test)\n",
    "    print('Classification score for '+ name +' Algo is :- '+str(score))"
   ]
  },
  {
   "cell_type": "code",
<<<<<<< HEAD
   "execution_count": null,
=======
   "execution_count": 51,
>>>>>>> 1c329b1216b3e571861c375cd4110340e69c8acb
   "metadata": {},
   "outputs": [],
   "source": [
    "# #Decision Tree Classifier\n",
    "# from sklearn.tree import DecisionTreeClassifier\n",
    "# params = {'criterion': ['gini', 'entropy'],'max_depth': np.arange(5,10), 'min_samples_leaf':np.arange(100,500,50),\n",
    "#           'max_features' :['auto', 'sqrt', 'log2']}\n",
    "# dtc = DecisionTreeClassifier()\n",
    "# grid = GridSearchCV(estimator = dtc,cv = 7, param_grid=params, refit=True)\n",
    "# grid.fit(x_train,y_train)\n",
    "# print(grid.best_score_)\n",
    "# print(grid.best_estimator_)\n",
    "\n",
    "# Accuracy :- 0.9072446459035366\n",
    "#Note :- Can't chooose this model as this is overfitting the data so not performing well on unseen data."
   ]
  },
  {
   "cell_type": "code",
<<<<<<< HEAD
   "execution_count": null,
   "metadata": {},
   "outputs": [],
=======
   "execution_count": 223,
   "metadata": {},
   "outputs": [
    {
     "name": "stdout",
     "output_type": "stream",
     "text": [
      "0.9076514624318559\n",
      "RandomForestClassifier(bootstrap=True, ccp_alpha=0.0, class_weight=None,\n",
      "                       criterion='gini', max_depth=None, max_features='sqrt',\n",
      "                       max_leaf_nodes=None, max_samples=None,\n",
      "                       min_impurity_decrease=0.0, min_impurity_split=None,\n",
      "                       min_samples_leaf=1, min_samples_split=2,\n",
      "                       min_weight_fraction_leaf=0.0, n_estimators=200,\n",
      "                       n_jobs=-1, oob_score=True, random_state=None, verbose=0,\n",
      "                       warm_start=False)\n"
     ]
    }
   ],
>>>>>>> 1c329b1216b3e571861c375cd4110340e69c8acb
   "source": [
    "from sklearn.ensemble import RandomForestClassifier\n",
    "rfc = RandomForestClassifier(n_jobs=-1,max_features= 'sqrt' ,n_estimators=50, oob_score = True) \n",
    "\n",
    "params = { \n",
    "    'n_estimators': [200, 700],\n",
    "    'max_features': ['auto', 'sqrt', 'log2']\n",
    "}\n",
    "\n",
    "grid = GridSearchCV(estimator = rfc,cv = 5, param_grid=params, refit=True)\n",
    "grid.fit(x_train,y_train)\n",
    "print(grid.best_score_)\n",
    "print(grid.best_estimator_)"
   ]
  },
  {
   "cell_type": "code",
<<<<<<< HEAD
   "execution_count": null,
=======
   "execution_count": 224,
>>>>>>> 1c329b1216b3e571861c375cd4110340e69c8acb
   "metadata": {},
   "outputs": [],
   "source": [
    "model = grid.best_estimator_"
   ]
  },
  {
   "cell_type": "code",
<<<<<<< HEAD
   "execution_count": null,
=======
   "execution_count": 225,
>>>>>>> 1c329b1216b3e571861c375cd4110340e69c8acb
   "metadata": {},
   "outputs": [],
   "source": [
    "import pickle\n",
    "# save the model to disk\n",
    "filename = '/home/abhay/finalized_model.sav'\n",
    "pickle.dump(model, open(filename, 'wb'))\n",
    " \n",
    "# load the model from disk\n",
    "loaded_model = pickle.load(open(filename, 'rb'))"
   ]
  },
  {
   "cell_type": "code",
<<<<<<< HEAD
   "execution_count": null,
   "metadata": {},
   "outputs": [],
=======
   "execution_count": 226,
   "metadata": {},
   "outputs": [
    {
     "data": {
      "text/plain": [
       "0.906328513865845"
      ]
     },
     "execution_count": 226,
     "metadata": {},
     "output_type": "execute_result"
    }
   ],
>>>>>>> 1c329b1216b3e571861c375cd4110340e69c8acb
   "source": [
    "loaded_model.score(x_test,y_test)"
   ]
  },
  {
   "cell_type": "code",
<<<<<<< HEAD
   "execution_count": null,
   "metadata": {},
   "outputs": [],
=======
   "execution_count": 227,
   "metadata": {},
   "outputs": [
    {
     "data": {
      "text/plain": [
       "array([0.017796  , 0.00720119, 0.00996004, 0.00704005, 0.0074481 ,\n",
       "       0.0076334 , 0.00830312, 0.00645866, 0.00756158, 0.00622113,\n",
       "       0.00740308, 0.00727786, 0.00646369, 0.00789862, 0.00634607,\n",
       "       0.00632036, 0.00672292, 0.00672648, 0.00623917, 0.00655258,\n",
       "       0.00589269, 0.00618552, 0.00602601, 0.00736484, 0.00717796,\n",
       "       0.00615809, 0.00651172, 0.00573737, 0.00625236, 0.00568327,\n",
       "       0.00636367, 0.00628814, 0.0057578 , 0.00601336, 0.00647308,\n",
       "       0.00611208, 0.00632746, 0.00612467, 0.0065048 , 0.0061608 ,\n",
       "       0.00607228, 0.00640138, 0.00607357, 0.00595686, 0.00615439,\n",
       "       0.00662483, 0.00784677, 0.00840828, 0.00800066, 0.00747417,\n",
       "       0.00668968, 0.00722804, 0.00658516, 0.006036  , 0.00930292,\n",
       "       0.00727365, 0.00612442, 0.00624044, 0.00658704, 0.00599629,\n",
       "       0.00726911, 0.00615574, 0.00565064, 0.00647717, 0.00562297,\n",
       "       0.00661074, 0.00687186, 0.00617299, 0.00595186, 0.0061035 ,\n",
       "       0.00579855, 0.00725655, 0.00651573, 0.00614804, 0.00646616,\n",
       "       0.00636575, 0.00678501, 0.00660068, 0.00651214, 0.00650769,\n",
       "       0.00630295, 0.00662493, 0.00728233, 0.00742157, 0.00714363,\n",
       "       0.00657856, 0.00659349, 0.00650504, 0.00657697, 0.00653048,\n",
       "       0.00698947, 0.00595161, 0.00670622, 0.00665269, 0.00665611,\n",
       "       0.00702657, 0.00644011, 0.00659692, 0.00693871, 0.00696615,\n",
       "       0.00645194, 0.00666636, 0.00645812, 0.00596711, 0.00685883,\n",
       "       0.00635714, 0.00648854, 0.0074781 , 0.00687452, 0.00740243,\n",
       "       0.00618294, 0.00620848, 0.00686999, 0.00707433, 0.00662224,\n",
       "       0.0064801 , 0.00648073, 0.00747776, 0.00674385, 0.00809107,\n",
       "       0.00674645, 0.00831891, 0.00738112, 0.00748736, 0.00815429,\n",
       "       0.00838144, 0.00854172, 0.0079568 , 0.0084952 , 0.00689211,\n",
       "       0.00728043, 0.00791727, 0.00693028, 0.00766161, 0.00712724,\n",
       "       0.00719932, 0.00716934, 0.00718034, 0.0073375 , 0.00718099,\n",
       "       0.00785642, 0.00683724, 0.00803061, 0.00688599, 0.00572143,\n",
       "       0.        ])"
      ]
     },
     "execution_count": 227,
     "metadata": {},
     "output_type": "execute_result"
    }
   ],
>>>>>>> 1c329b1216b3e571861c375cd4110340e69c8acb
   "source": [
    "loaded_model.feature_importances_"
   ]
  },
  {
   "cell_type": "code",
<<<<<<< HEAD
   "execution_count": null,
=======
   "execution_count": 228,
>>>>>>> 1c329b1216b3e571861c375cd4110340e69c8acb
   "metadata": {},
   "outputs": [],
   "source": [
    "df1 = pd.read_csv('/home/abhay/Downloads/MyProjects/loan-default-prediction/test_v2.csv', usecols = features)"
   ]
  },
  {
   "cell_type": "code",
<<<<<<< HEAD
   "execution_count": null,
   "metadata": {},
   "outputs": [],
=======
   "execution_count": 229,
   "metadata": {},
   "outputs": [
    {
     "name": "stderr",
     "output_type": "stream",
     "text": [
      "/home/abhay/anaconda3/lib/python3.7/site-packages/numpy/lib/function_base.py:2531: RuntimeWarning: divide by zero encountered in true_divide\n",
      "  c /= stddev[None, :]\n"
     ]
    }
   ],
>>>>>>> 1c329b1216b3e571861c375cd4110340e69c8acb
   "source": [
    "from sklearn.experimental import enable_iterative_imputer  # noqa\n",
    "# now you can import normally from sklearn.impute\n",
    "from sklearn.impute import IterativeImputer\n",
    "missing_imputer = IterativeImputer(random_state=0,missing_values=np.nan, n_nearest_features=5)\n",
    "\n",
    "#from sklearn.impute import SimpleImputer\n",
    "# missing_imputer = SimpleImputer(missing_values=np.nan, strategy='mean')\n",
    "test_predictors = pd.DataFrame(missing_imputer.fit_transform(df1),columns = features)"
   ]
  },
  {
   "cell_type": "code",
<<<<<<< HEAD
   "execution_count": null,
=======
   "execution_count": 230,
>>>>>>> 1c329b1216b3e571861c375cd4110340e69c8acb
   "metadata": {},
   "outputs": [],
   "source": [
    "# from sklearn.preprocessing import StandardScaler\n",
    "scaler = StandardScaler(copy=False)\n",
    "#sc.fit_transform(test_predictors)\n",
    "test_predictors = scaler.fit_transform(test_predictors)"
   ]
  },
  {
   "cell_type": "code",
<<<<<<< HEAD
   "execution_count": null,
=======
   "execution_count": 231,
>>>>>>> 1c329b1216b3e571861c375cd4110340e69c8acb
   "metadata": {},
   "outputs": [],
   "source": [
    "pca = PCA(n_components = len(features)) \n",
    "transformed_test = pca.fit_transform(test_predictors)"
   ]
  },
  {
   "cell_type": "code",
<<<<<<< HEAD
   "execution_count": null,
   "metadata": {},
   "outputs": [],
=======
   "execution_count": 232,
   "metadata": {},
   "outputs": [
    {
     "name": "stdout",
     "output_type": "stream",
     "text": [
      "1.0000000000000002\n"
     ]
    }
   ],
>>>>>>> 1c329b1216b3e571861c375cd4110340e69c8acb
   "source": [
    "ar = pca.explained_variance_ratio_\n",
    "s = 0\n",
    "for i in ar:\n",
    "    s+=i\n",
    "print(s)\n",
    "\n",
    "#test_predictors.isnull().sum(axis=0)"
   ]
  },
  {
   "cell_type": "code",
<<<<<<< HEAD
   "execution_count": null,
=======
   "execution_count": 236,
>>>>>>> 1c329b1216b3e571861c375cd4110340e69c8acb
   "metadata": {},
   "outputs": [],
   "source": [
    "ty = loaded_model.predict(transformed_test)"
   ]
  },
  {
   "cell_type": "code",
   "execution_count": null,
   "metadata": {},
   "outputs": [],
   "source": []
  }
 ],
 "metadata": {
  "kernelspec": {
   "display_name": "Python 3",
   "language": "python",
   "name": "python3"
  },
  "language_info": {
   "codemirror_mode": {
    "name": "ipython",
    "version": 3
   },
   "file_extension": ".py",
   "mimetype": "text/x-python",
   "name": "python",
   "nbconvert_exporter": "python",
   "pygments_lexer": "ipython3",
   "version": "3.7.3"
  }
 },
 "nbformat": 4,
 "nbformat_minor": 2
}
